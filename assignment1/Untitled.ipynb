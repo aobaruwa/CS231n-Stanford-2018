{
 "cells": [
  {
   "cell_type": "code",
   "execution_count": 1,
   "metadata": {},
   "outputs": [
    {
     "name": "stdout",
     "output_type": "stream",
     "text": [
      "hello, world\n"
     ]
    }
   ],
   "source": [
    "print(\"hello, world\")\n",
    "[1, 2, 3, 4, 100, 400, 500]\n"
   ]
  },
  {
   "cell_type": "code",
   "execution_count": 71,
   "metadata": {},
   "outputs": [],
   "source": [
    "import numpy as np\n",
    "\n",
    "def individualSequence(unsortedLst):\n",
    "    APs = {}; index = 0; i = 0; lst = sorted(unsortedLst); vals = []\n",
    "    while len(lst) > 0:\n",
    "        if len(lst) <= 3: \n",
    "            APs[index] = lst\n",
    "            break\n",
    "        if lst[i+1] - lst[i] != lst[i+2] - lst[i+1]: \n",
    "            choice = lst[: i+2]\n",
    "            APs[index] = choice\n",
    "            vals.append(len(choice))\n",
    "            print(\"lst-\", lst)\n",
    "            lst = sorted(list(set(lst) - set(choice)))\n",
    "            i = 0; index += 1\n",
    "        else: i +=1\n",
    "        print(\"lst-\", lst)\n",
    "        print (APs) \n",
    "        \n",
    "    print()    \n",
    "    print(APs, max(vals))\n",
    "          \n",
    "    "
   ]
  },
  {
   "cell_type": "code",
   "execution_count": 72,
   "metadata": {},
   "outputs": [
    {
     "name": "stdout",
     "output_type": "stream",
     "text": [
      "lst- [1, 2, 3, 4, 18, 20, 22, 24, 26, 71, 74, 77, 100, 200, 300]\n",
      "{}\n",
      "lst- [1, 2, 3, 4, 18, 20, 22, 24, 26, 71, 74, 77, 100, 200, 300]\n",
      "{}\n",
      "lst- [1, 2, 3, 4, 18, 20, 22, 24, 26, 71, 74, 77, 100, 200, 300]\n",
      "lst- [18, 20, 22, 24, 26, 71, 74, 77, 100, 200, 300]\n",
      "{0: [1, 2, 3, 4]}\n",
      "lst- [18, 20, 22, 24, 26, 71, 74, 77, 100, 200, 300]\n",
      "{0: [1, 2, 3, 4]}\n",
      "lst- [18, 20, 22, 24, 26, 71, 74, 77, 100, 200, 300]\n",
      "{0: [1, 2, 3, 4]}\n",
      "lst- [18, 20, 22, 24, 26, 71, 74, 77, 100, 200, 300]\n",
      "{0: [1, 2, 3, 4]}\n",
      "lst- [18, 20, 22, 24, 26, 71, 74, 77, 100, 200, 300]\n",
      "lst- [71, 74, 77, 100, 200, 300]\n",
      "{0: [1, 2, 3, 4], 1: [18, 20, 22, 24, 26]}\n",
      "lst- [71, 74, 77, 100, 200, 300]\n",
      "{0: [1, 2, 3, 4], 1: [18, 20, 22, 24, 26]}\n",
      "lst- [71, 74, 77, 100, 200, 300]\n",
      "lst- [100, 200, 300]\n",
      "{0: [1, 2, 3, 4], 1: [18, 20, 22, 24, 26], 2: [71, 74, 77]}\n",
      "\n",
      "{0: [1, 2, 3, 4], 1: [18, 20, 22, 24, 26], 2: [71, 74, 77], 3: [100, 200, 300]} 5\n"
     ]
    }
   ],
   "source": [
    "ls = [100, 4, 1, 2, 200, 300, 3, 18,20, 22, 24, 26, 71, 74, 77]\n",
    "individualSequence(ls)"
   ]
  },
  {
   "cell_type": "code",
   "execution_count": 11,
   "metadata": {},
   "outputs": [],
   "source": [
    "list."
   ]
  },
  {
   "cell_type": "code",
   "execution_count": 15,
   "metadata": {},
   "outputs": [
    {
     "data": {
      "text/plain": [
       "{'a': 2}"
      ]
     },
     "execution_count": 15,
     "metadata": {},
     "output_type": "execute_result"
    }
   ],
   "source": [
    "a = {}\n",
    "a['a'] = 2\n",
    "a\n"
   ]
  },
  {
   "cell_type": "code",
   "execution_count": null,
   "metadata": {
    "collapsed": true
   },
   "outputs": [],
   "source": []
  },
  {
   "cell_type": "code",
   "execution_count": null,
   "metadata": {
    "collapsed": true
   },
   "outputs": [],
   "source": []
  },
  {
   "cell_type": "code",
   "execution_count": null,
   "metadata": {
    "collapsed": true
   },
   "outputs": [],
   "source": []
  }
 ],
 "metadata": {
  "kernelspec": {
   "display_name": "Python 3",
   "language": "python",
   "name": "python3"
  },
  "language_info": {
   "codemirror_mode": {
    "name": "ipython",
    "version": 3
   },
   "file_extension": ".py",
   "mimetype": "text/x-python",
   "name": "python",
   "nbconvert_exporter": "python",
   "pygments_lexer": "ipython3",
   "version": "3.6.3"
  }
 },
 "nbformat": 4,
 "nbformat_minor": 2
}
